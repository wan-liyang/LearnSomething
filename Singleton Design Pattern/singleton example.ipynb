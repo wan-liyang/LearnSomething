{
 "cells": [
  {
   "cell_type": "code",
   "execution_count": null,
   "metadata": {
    "dotnet_interactive": {
     "language": "csharp"
    },
    "vscode": {
     "languageId": "dotnet-interactive.csharp"
    }
   },
   "outputs": [],
   "source": [
    "// to simulate Singtleton process, create single instance of MemoryCache\n",
    "// this method is bad example because not deal with multiple thread process\n",
    "\n",
    "Main();\n",
    "\n",
    "void Main()\n",
    "{\n",
    "\tMemoryCache.Create();\n",
    "\tMemoryCache.Create();\n",
    "\tMemoryCache.Create();\n",
    "\tMemoryCache.Create();\n",
    "\tMemoryCache.Create();\n",
    "}\n",
    "\n",
    "public class MemoryCache\n",
    "{\n",
    "\tprivate static MemoryCache _instance;\n",
    "\t\n",
    "\tprivate MemoryCache() {\n",
    "\t\tConsole.WriteLine(\"Created Singleton instance\");\n",
    "\t}\n",
    "\t\n",
    "\tpublic static MemoryCache Create() {\n",
    "\t\treturn _instance ?? (_instance = new MemoryCache());\n",
    "\t}\t\n",
    "}"
   ]
  },
  {
   "cell_type": "code",
   "execution_count": null,
   "metadata": {
    "dotnet_interactive": {
     "language": "csharp"
    },
    "vscode": {
     "languageId": "dotnet-interactive.csharp"
    }
   },
   "outputs": [],
   "source": [
    "// Problem: create singleton instance, not support in multiple process\n",
    "// this is to simulate above example in multiple thread, it will create multiple instance\n",
    "// this is not what we want\n",
    "\n",
    "Main();\n",
    "\n",
    "void Main()\n",
    "{\n",
    "\tint size = 8;\n",
    "\tTask[] tasks = new Task[size];\n",
    "\tfor (int i = 0; i < size; i++){\n",
    "\t\ttasks[i] = Task.Run(() => MemoryCache.Create());\n",
    "\t}\n",
    "\tTask.WaitAll(tasks);\n",
    "\t//MemoryCache.Create();\n",
    "}\n",
    "\n",
    "public class MemoryCache\n",
    "{\n",
    "\tprivate static int i = 0;\n",
    "\tprivate static MemoryCache _instance;\n",
    "\n",
    "\tprivate MemoryCache()\n",
    "\t{\n",
    "\t\tConsole.WriteLine($\"Created {i++}\");\n",
    "\t}\n",
    "\t\n",
    "\tpublic static MemoryCache Create() {\n",
    "\t\treturn _instance ?? (_instance = new MemoryCache());\n",
    "\t}\n",
    "}"
   ]
  },
  {
   "cell_type": "code",
   "execution_count": null,
   "metadata": {
    "dotnet_interactive": {
     "language": "csharp"
    },
    "vscode": {
     "languageId": "dotnet-interactive.csharp"
    }
   },
   "outputs": [],
   "source": [
    "// First Solution: static constructor\n",
    "// when application start, the static constructor be called, if many many static constructor in application, it will take much time to start application\n",
    "\n",
    "Main();\n",
    "void Main()\n",
    "{\n",
    "\tint size = 8;\n",
    "\tTask[] tasks = new Task[size];\n",
    "\tfor (int i = 0; i < size; i++){\n",
    "\t\ttasks[i] = Task.Run(() => MemoryCache.Create());\n",
    "\t}\n",
    "\tTask.WaitAll(tasks);\n",
    "\t//MemoryCache.Create();\n",
    "}\n",
    "\n",
    "\n",
    "public class MemoryCache\n",
    "{\n",
    "\tprivate static int i = 0;\n",
    "\tprivate static MemoryCache _instance;\n",
    "\t\n",
    "\tstatic MemoryCache(){\n",
    "\t\t_instance = new MemoryCache();\n",
    "\t}\n",
    "\n",
    "\tprivate MemoryCache()\n",
    "\t{\n",
    "\t\tConsole.WriteLine($\"Created {i++}\");\n",
    "\t}\n",
    "\t\n",
    "\tpublic static MemoryCache Create() {\n",
    "\t\treturn _instance;\n",
    "\t}\n",
    "}"
   ]
  },
  {
   "cell_type": "code",
   "execution_count": null,
   "metadata": {
    "dotnet_interactive": {
     "language": "csharp"
    },
    "vscode": {
     "languageId": "dotnet-interactive.csharp"
    }
   },
   "outputs": [],
   "source": [
    "// Solution: lock resource\n",
    "// this is solution for above singleton in multiple thread\n",
    "// add lock to instance, it wil always create one single instance\n",
    "\n",
    "Main();\n",
    "void Main()\n",
    "{\n",
    "\tint size = 8;\n",
    "\tTask[] tasks = new Task[size];\n",
    "\tfor (int i = 0; i < size; i++)\n",
    "\t{\n",
    "\t\ttasks[i] = Task.Run(() => MemoryCache.Create());\n",
    "\t}\n",
    "\tTask.WaitAll(tasks);\n",
    "\t//MemoryCache.Create();\n",
    "}\n",
    "\n",
    "public class MemoryCache\n",
    "{\n",
    "\tprivate static int i = 0;\n",
    "\tprivate static MemoryCache _instance;\n",
    "\tprivate static object _cacheLock = new object();\n",
    "\n",
    "\tprivate MemoryCache()\n",
    "\t{\n",
    "\t\tConsole.WriteLine($\"Created {i++}\");\n",
    "\t}\n",
    "\n",
    "\tpublic static MemoryCache Create()\n",
    "\t{\n",
    "\t\t// if _instance is null, continue for creation process\n",
    "\t\tif (_instance == null)\n",
    "\t\t{\n",
    "\t\t\t// lock the object, memory allows only one thread to access the object at one time\n",
    "\t\t\tlock (_cacheLock)\n",
    "\t\t\t{\n",
    "\t\t\t\t// after relase lock, do check again, to avoid duplicate creation\n",
    "\t\t\t\tif (_instance == null)\n",
    "\t\t\t\t{\n",
    "\t\t\t\t\treturn _instance = new MemoryCache();\n",
    "\t\t\t\t}\n",
    "\t\t\t}\n",
    "\t\t}\n",
    "\n",
    "\t\treturn _instance;\n",
    "\t}\n",
    "}"
   ]
  },
  {
   "cell_type": "code",
   "execution_count": null,
   "metadata": {
    "dotnet_interactive": {
     "language": "csharp"
    },
    "vscode": {
     "languageId": "dotnet-interactive.csharp"
    }
   },
   "outputs": [],
   "source": [
    "// Problem: access the Singleton cache\n",
    "// this example use Contains method to check whether key exists, but it not work under multiple thread\n",
    "\n",
    "Main();\n",
    "\n",
    "void Main()\n",
    "{\n",
    "\tint size = 10;\n",
    "\tTask[] tasks = new Task[size];\n",
    "\tfor (int i = 0; i < size; i++)\n",
    "\t{\n",
    "\t\ttasks[i] = Task.Run(() =>\n",
    "\t\t{\n",
    "\t\t\tvar c = MemoryCache.Create();\n",
    "\t\t\tif (!c.Contains(\"job_id\", \"job1\"))\n",
    "\t\t\t{\n",
    "\t\t\t\tConsole.WriteLine($\"Big Operation\");\n",
    "\t\t\t}\n",
    "\t\t});\n",
    "\t}\n",
    "\tTask.WaitAll(tasks);\n",
    "}\n",
    "\n",
    "\n",
    "public class MemoryCache\n",
    "{\n",
    "\tprivate static MemoryCache cache;\n",
    "\tprivate static object cacheLock = new object();\n",
    "\n",
    "\tprivate readonly Dictionary<string, string> _registry;\n",
    "\n",
    "\tprivate MemoryCache() => _registry = new Dictionary<string, string>();\n",
    "\n",
    "\tpublic static MemoryCache Create()\n",
    "\t{\n",
    "\t\tif (cache == null)\n",
    "\t\t{\n",
    "\t\t\tlock (cacheLock)\n",
    "\t\t\t{\n",
    "\t\t\t\tif (cache == null)\n",
    "\t\t\t\t{\n",
    "\t\t\t\t\treturn cache = new MemoryCache();\n",
    "\t\t\t\t}\n",
    "\t\t\t}\n",
    "\t\t}\n",
    "\n",
    "\t\treturn cache;\n",
    "\t}\n",
    "\n",
    "\tpublic bool Contains(string key, string value)\n",
    "\t{\n",
    "\t\treturn _registry.Contains(KeyValuePair.Create(key, value));\n",
    "\t}\n",
    "}"
   ]
  },
  {
   "cell_type": "code",
   "execution_count": null,
   "metadata": {
    "dotnet_interactive": {
     "language": "csharp"
    },
    "vscode": {
     "languageId": "dotnet-interactive.csharp"
    }
   },
   "outputs": [
    {
     "name": "stdout",
     "output_type": "stream",
     "text": [
      "Big Operation\n"
     ]
    }
   ],
   "source": [
    "// Solution: use lock, to void multiple thread perform creation in same time\n",
    "\n",
    "Main();\n",
    "\n",
    "void Main()\n",
    "{\n",
    "\tint size = 10;\n",
    "\tTask[] tasks = new Task[size];\n",
    "\tfor (int i = 0; i < size; i++)\n",
    "\t{\n",
    "\t\ttasks[i] = Task.Run(() =>\n",
    "\t\t{\n",
    "\t\t\tvar c = MemoryCache.Create();\n",
    "\t\t\tif (c.AquireKey(\"job_id\", \"job1\"))\n",
    "\t\t\t{\n",
    "\t\t\t\tConsole.WriteLine(\"Big Operation\");\n",
    "\t\t\t}\n",
    "\t\t});\n",
    "\t}\n",
    "\tTask.WaitAll(tasks);\n",
    "}\n",
    "\n",
    "\n",
    "public class MemoryCache\n",
    "{\n",
    "\tprivate static MemoryCache cache;\n",
    "\tprivate static object cacheLock = new object();\n",
    "\n",
    "\tprivate readonly Dictionary<string, string> _registry;\n",
    "\n",
    "\tprivate MemoryCache() => _registry = new Dictionary<string, string>();\n",
    "\n",
    "\tpublic static MemoryCache Create()\n",
    "\t{\n",
    "\t\tif (cache == null)\n",
    "\t\t{\n",
    "\t\t\tlock (cacheLock)\n",
    "\t\t\t{\n",
    "\t\t\t\tif (cache == null)\n",
    "\t\t\t\t{\n",
    "\t\t\t\t\treturn cache = new MemoryCache();\n",
    "\t\t\t\t}\n",
    "\t\t\t}\n",
    "\t\t}\n",
    "\n",
    "\t\treturn cache;\n",
    "\t}\n",
    "\n",
    "\tpublic bool Contains(string key, string value)\n",
    "\t{\n",
    "\t\treturn _registry.Contains(KeyValuePair.Create(key, value));\n",
    "\t}\n",
    "\n",
    "\tpublic void Write(string key, string value)\n",
    "\t{\n",
    "\t\t_registry[key] = value;\n",
    "\t}\n",
    "\n",
    "\n",
    "\tpublic bool AquireKey(string key, string value)\n",
    "\t{\n",
    "\t\tlock (cacheLock)\n",
    "\t\t{\n",
    "\t\t\tif (Contains(\"job_id\", \"job1\"))\n",
    "\t\t\t{\n",
    "\t\t\t\treturn false;\n",
    "\t\t\t}\n",
    "\t\t\tWrite(\"job_id\", \"job1\");\n",
    "\t\t\t\n",
    "\t\t\treturn true;\n",
    "\t\t}\n",
    "\t}\n",
    "}"
   ]
  }
 ],
 "metadata": {
  "kernelspec": {
   "display_name": ".NET (C#)",
   "language": "C#",
   "name": ".net-csharp"
  },
  "language_info": {
   "name": "C#"
  }
 },
 "nbformat": 4,
 "nbformat_minor": 2
}
